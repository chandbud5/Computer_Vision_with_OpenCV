{
 "cells": [
  {
   "cell_type": "code",
   "execution_count": 1,
   "metadata": {},
   "outputs": [],
   "source": [
    "import cv2\n",
    "import numpy as np"
   ]
  },
  {
   "cell_type": "code",
   "execution_count": 2,
   "metadata": {},
   "outputs": [],
   "source": [
    "img = 255*np.zeros([512,512,3])\n",
    "\n",
    "img = cv2.line(img , (0,0), (400,400), (25,0,0), 5)\n",
    "img = cv2.rectangle(img, (100,100), (450,300), (10,10,200),7)\n",
    "img = cv2.arrowedLine(img , (300,0), (400,400), (25,0,0), 4)\n",
    "img = cv2.circle(img, (320, 240), 30, (0,200,100), -1)\n",
    "font = cv2.FONT_HERSHEY_SIMPLEX\n",
    "img = cv2.putText(img, \"Text Here\", (100,200), font, 3, (255, 200, 10), 6, cv2.LINE_AA)\n",
    "\n",
    "\n",
    "cv2.imwrite(\"geometric shapes.jpg\", img)\n",
    "cv2.imshow(\"im\", img)\n",
    "cv2.waitKey(0)\n",
    "cv2.destroyAllWindows()"
   ]
  },
  {
   "cell_type": "code",
   "execution_count": null,
   "metadata": {},
   "outputs": [],
   "source": []
  },
  {
   "cell_type": "code",
   "execution_count": null,
   "metadata": {},
   "outputs": [],
   "source": []
  }
 ],
 "metadata": {
  "kernelspec": {
   "display_name": "Python 3",
   "language": "python",
   "name": "python3"
  },
  "language_info": {
   "codemirror_mode": {
    "name": "ipython",
    "version": 3
   },
   "file_extension": ".py",
   "mimetype": "text/x-python",
   "name": "python",
   "nbconvert_exporter": "python",
   "pygments_lexer": "ipython3",
   "version": "3.7.6"
  }
 },
 "nbformat": 4,
 "nbformat_minor": 4
}
